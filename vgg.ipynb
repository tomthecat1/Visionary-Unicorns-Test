{
 "cells": [
  {
   "cell_type": "code",
   "execution_count": 11,
   "metadata": {},
   "outputs": [],
   "source": [
    "from keras.applications.vgg16 import VGG16\n",
    "from keras.applications.vgg16 import preprocess_input\n",
    "from PIL import Image\n",
    "import numpy as np"
   ]
  },
  {
   "cell_type": "code",
   "execution_count": 13,
   "metadata": {},
   "outputs": [
    {
     "name": "stdout",
     "output_type": "stream",
     "text": [
      "1/1 [==============================] - 1s 631ms/step\n"
     ]
    }
   ],
   "source": [
    "model = VGG16(weights='imagenet', include_top=False)\n",
    "\n",
    "img = Image.open('train/train/image_id_000.jpg')\n",
    "img = img.resize((224, 224))\n",
    "img_array = np.array(img)\n",
    "img_array = np.expand_dims(img_array, axis=0)\n",
    "img_array = preprocess_input(img_array)\n",
    "\n",
    "features = model.predict(img_array)"
   ]
  },
  {
   "cell_type": "code",
   "execution_count": 20,
   "metadata": {},
   "outputs": [
    {
     "name": "stdout",
     "output_type": "stream",
     "text": [
      "WARNING:tensorflow:5 out of the last 5 calls to <function Model.make_predict_function.<locals>.predict_function at 0x18ba31580> triggered tf.function retracing. Tracing is expensive and the excessive number of tracings could be due to (1) creating @tf.function repeatedly in a loop, (2) passing tensors with different shapes, (3) passing Python objects instead of tensors. For (1), please define your @tf.function outside of the loop. For (2), @tf.function has reduce_retracing=True option that can avoid unnecessary retracing. For (3), please refer to https://www.tensorflow.org/guide/function#controlling_retracing and https://www.tensorflow.org/api_docs/python/tf/function for  more details.\n",
      "1/1 [==============================] - 0s 433ms/step\n",
      "(1, 224, 224, 3)\n",
      "(1, 224, 224, 64)\n",
      "(1, 224, 224, 64)\n",
      "(1, 112, 112, 64)\n",
      "(1, 112, 112, 128)\n",
      "(1, 112, 112, 128)\n",
      "(1, 56, 56, 128)\n",
      "(1, 56, 56, 256)\n",
      "(1, 56, 56, 256)\n",
      "(1, 56, 56, 256)\n",
      "(1, 28, 28, 256)\n",
      "(1, 28, 28, 512)\n",
      "(1, 28, 28, 512)\n",
      "(1, 28, 28, 512)\n",
      "(1, 14, 14, 512)\n",
      "(1, 14, 14, 512)\n",
      "(1, 14, 14, 512)\n",
      "(1, 14, 14, 512)\n",
      "(1, 7, 7, 512)\n"
     ]
    }
   ],
   "source": [
    "model = VGG16(weights='imagenet', include_top=False)\n",
    "\n",
    "# Load and preprocess the image\n",
    "img = Image.open('train/train/image_id_000.jpg')\n",
    "img = img.resize((224, 224))\n",
    "img_array = np.array(img)\n",
    "img_array = np.expand_dims(img_array, axis=0)\n",
    "img_array = preprocess_input(img_array)\n",
    "\n",
    "# Get the feature outputs\n",
    "outputs = [layer.output for layer in model.layers]\n",
    "feature_extraction_model = Model(inputs=model.input, outputs=outputs)\n",
    "features = feature_extraction_model.predict(img_array)\n",
    "\n",
    "# Print the shapes of the extracted features\n",
    "for feature in features:\n",
    "    print(feature.shape)"
   ]
  },
  {
   "cell_type": "code",
   "execution_count": null,
   "metadata": {},
   "outputs": [],
   "source": []
  }
 ],
 "metadata": {
  "kernelspec": {
   "display_name": "tensor",
   "language": "python",
   "name": "python3"
  },
  "language_info": {
   "codemirror_mode": {
    "name": "ipython",
    "version": 3
   },
   "file_extension": ".py",
   "mimetype": "text/x-python",
   "name": "python",
   "nbconvert_exporter": "python",
   "pygments_lexer": "ipython3",
   "version": "3.11.4"
  },
  "orig_nbformat": 4
 },
 "nbformat": 4,
 "nbformat_minor": 2
}
